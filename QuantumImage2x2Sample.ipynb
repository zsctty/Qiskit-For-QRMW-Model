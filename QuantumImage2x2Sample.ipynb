{
 "cells": [
  {
   "cell_type": "code",
   "execution_count": 1,
   "id": "whole-welcome",
   "metadata": {},
   "outputs": [],
   "source": [
    "from math import pi\n",
    "import numpy as np\n",
    "from qiskit.visualization import plot_bloch_multivector, plot_histogram\n",
    "import cv2\n",
    "from matplotlib import pyplot as plt\n",
    "from qiskit import *\n",
    "from qiskit.circuit.library import *\n",
    "c4xgate = C4XGate()\n",
    "c3xgate = C3XGate()"
   ]
  },
  {
   "cell_type": "code",
   "execution_count": 2,
   "id": "cognitive-packing",
   "metadata": {},
   "outputs": [],
   "source": [
    "#创建初始量子电路\n",
    "#在开始创建电路要考虑好所需的量子比特数（包括中间用于存储的辅助量子比特）以及需要用来存储测量信息的经典比特数\n",
    "qc = QuantumCircuit(12, 12)"
   ]
  },
  {
   "cell_type": "code",
   "execution_count": 3,
   "id": "equivalent-moses",
   "metadata": {},
   "outputs": [],
   "source": [
    "#用h门创建均匀叠加态\n",
    "#此处搭建的是论文中已经压缩后的量子电路\n",
    "#具体思路可以参考姜楠了老师的论文A novel quantum image compression method based on JPEG和张毅老师的NEQR\n",
    "#qiskit中给定义了x门，cnot门，c3not门和c4not门，此处为降低时间复杂度，没有将量子线路全部分解为单量子门，折中的以4Cnot门作为基础\n",
    "#以此来分解n-cnot门，这会在后面的代码中有所体现，但此处直接使用4cnot门用以完成线路搭建\n",
    "#此处为第一组量子电路\n",
    "for i in range(4):\n",
    "    qc.h(i)\n",
    "    if i == 1:\n",
    "        continue;\n",
    "    qc.x(i)\n",
    "for i in range(8):\n",
    "    qc.append(c4xgate, [0, 1, 2, 3, i+4])\n",
    "for i in range(4):\n",
    "    if i == 1:\n",
    "        continue;\n",
    "    qc.x(i)"
   ]
  },
  {
   "cell_type": "code",
   "execution_count": 4,
   "id": "insured-plumbing",
   "metadata": {},
   "outputs": [],
   "source": [
    "#此处为第二组量子电路\n",
    "qc.barrier([0,1,2,3])\n",
    "for i in range(4):\n",
    "    if i == 0:\n",
    "        continue;\n",
    "    qc.x(i)\n",
    "for i in range(8):\n",
    "    qc.append(c4xgate, [0, 1, 2, 3, i+4])\n",
    "qc.barrier([0,1,2,3])\n",
    "for i in range(4):\n",
    "    if i == 0:\n",
    "        continue;\n",
    "    qc.x(i)"
   ]
  },
  {
   "cell_type": "code",
   "execution_count": 5,
   "id": "acting-joint",
   "metadata": {},
   "outputs": [],
   "source": [
    "#此处为第三组量子电路\n",
    "qc.barrier([0,1,2,3])\n",
    "for i in range(4):\n",
    "    if i == 1 or i == 3:\n",
    "        continue;\n",
    "    qc.x(i)\n",
    "for i in range(8):\n",
    "    qc.append(c3xgate, [0, 2, 3, i+4])\n",
    "for i in range(4):\n",
    "    if i == 1 or i == 3:\n",
    "        continue;\n",
    "    qc.x(i)"
   ]
  },
  {
   "cell_type": "code",
   "execution_count": 6,
   "id": "constant-departure",
   "metadata": {},
   "outputs": [
    {
     "data": {
      "text/plain": [
       "<qiskit.circuit.instructionset.InstructionSet at 0x7fead34ed9e8>"
      ]
     },
     "execution_count": 6,
     "metadata": {},
     "output_type": "execute_result"
    }
   ],
   "source": [
    "#此处为第四组量子电路\n",
    "qc.barrier([0,1,2,3])\n",
    "qc.x(3)\n",
    "for i in range(8):\n",
    "    qc.append(c3xgate, [1, 2, 3, i+4])\n",
    "qc.x(3)"
   ]
  },
  {
   "cell_type": "code",
   "execution_count": 7,
   "id": "still-aside",
   "metadata": {},
   "outputs": [
    {
     "data": {
      "text/html": [
       "<pre style=\"word-wrap: normal;white-space: pre;background: #fff0;line-height: 1.1;font-family: &quot;Courier New&quot;,Courier,monospace\">      ┌───┐┌───┐                                        ┌───┐ ░                »\n",
       " q_0: ┤ H ├┤ X ├──■────■────■────■────■────■────■────■──┤ X ├─░────────■────■──»\n",
       "      ├───┤└───┘  │    │    │    │    │    │    │    │  └───┘ ░ ┌───┐  │    │  »\n",
       " q_1: ┤ H ├───────■────■────■────■────■────■────■────■────────░─┤ X ├──■────■──»\n",
       "      ├───┤┌───┐  │    │    │    │    │    │    │    │  ┌───┐ ░ ├───┤  │    │  »\n",
       " q_2: ┤ H ├┤ X ├──■────■────■────■────■────■────■────■──┤ X ├─░─┤ X ├──■────■──»\n",
       "      ├───┤├───┤  │    │    │    │    │    │    │    │  ├───┤ ░ ├───┤  │    │  »\n",
       " q_3: ┤ H ├┤ X ├──■────■────■────■────■────■────■────■──┤ X ├─░─┤ X ├──■────■──»\n",
       "      └───┘└───┘┌─┴─┐  │    │    │    │    │    │    │  └───┘ ░ └───┘┌─┴─┐  │  »\n",
       " q_4: ──────────┤ X ├──┼────┼────┼────┼────┼────┼────┼───────────────┤ X ├──┼──»\n",
       "                └───┘┌─┴─┐  │    │    │    │    │    │               └───┘┌─┴─┐»\n",
       " q_5: ───────────────┤ X ├──┼────┼────┼────┼────┼────┼────────────────────┤ X ├»\n",
       "                     └───┘┌─┴─┐  │    │    │    │    │                    └───┘»\n",
       " q_6: ────────────────────┤ X ├──┼────┼────┼────┼────┼─────────────────────────»\n",
       "                          └───┘┌─┴─┐  │    │    │    │                         »\n",
       " q_7: ─────────────────────────┤ X ├──┼────┼────┼────┼─────────────────────────»\n",
       "                               └───┘┌─┴─┐  │    │    │                         »\n",
       " q_8: ──────────────────────────────┤ X ├──┼────┼────┼─────────────────────────»\n",
       "                                    └───┘┌─┴─┐  │    │                         »\n",
       " q_9: ───────────────────────────────────┤ X ├──┼────┼─────────────────────────»\n",
       "                                         └───┘┌─┴─┐  │                         »\n",
       "q_10: ────────────────────────────────────────┤ X ├──┼─────────────────────────»\n",
       "                                              └───┘┌─┴─┐                       »\n",
       "q_11: ─────────────────────────────────────────────┤ X ├───────────────────────»\n",
       "                                                   └───┘                       »\n",
       "c: 12/═════════════════════════════════════════════════════════════════════════»\n",
       "                                                                               »\n",
       "«                                     ░       ░ ┌───┐                         »\n",
       "« q_0: ──■────■────■────■────■────■───░───────░─┤ X ├──■────■────■────■────■──»\n",
       "«        │    │    │    │    │    │   ░ ┌───┐ ░ └───┘  │    │    │    │    │  »\n",
       "« q_1: ──■────■────■────■────■────■───░─┤ X ├─░────────┼────┼────┼────┼────┼──»\n",
       "«        │    │    │    │    │    │   ░ ├───┤ ░ ┌───┐  │    │    │    │    │  »\n",
       "« q_2: ──■────■────■────■────■────■───░─┤ X ├─░─┤ X ├──■────■────■────■────■──»\n",
       "«        │    │    │    │    │    │   ░ ├───┤ ░ └───┘  │    │    │    │    │  »\n",
       "« q_3: ──■────■────■────■────■────■───░─┤ X ├─░────────■────■────■────■────■──»\n",
       "«        │    │    │    │    │    │   ░ └───┘ ░      ┌─┴─┐  │    │    │    │  »\n",
       "« q_4: ──┼────┼────┼────┼────┼────┼──────────────────┤ X ├──┼────┼────┼────┼──»\n",
       "«        │    │    │    │    │    │                  └───┘┌─┴─┐  │    │    │  »\n",
       "« q_5: ──┼────┼────┼────┼────┼────┼───────────────────────┤ X ├──┼────┼────┼──»\n",
       "«      ┌─┴─┐  │    │    │    │    │                       └───┘┌─┴─┐  │    │  »\n",
       "« q_6: ┤ X ├──┼────┼────┼────┼────┼────────────────────────────┤ X ├──┼────┼──»\n",
       "«      └───┘┌─┴─┐  │    │    │    │                            └───┘┌─┴─┐  │  »\n",
       "« q_7: ─────┤ X ├──┼────┼────┼────┼─────────────────────────────────┤ X ├──┼──»\n",
       "«           └───┘┌─┴─┐  │    │    │                                 └───┘┌─┴─┐»\n",
       "« q_8: ──────────┤ X ├──┼────┼────┼──────────────────────────────────────┤ X ├»\n",
       "«                └───┘┌─┴─┐  │    │                                      └───┘»\n",
       "« q_9: ───────────────┤ X ├──┼────┼───────────────────────────────────────────»\n",
       "«                     └───┘┌─┴─┐  │                                           »\n",
       "«q_10: ────────────────────┤ X ├──┼───────────────────────────────────────────»\n",
       "«                          └───┘┌─┴─┐                                         »\n",
       "«q_11: ─────────────────────────┤ X ├─────────────────────────────────────────»\n",
       "«                               └───┘                                         »\n",
       "«c: 12/═══════════════════════════════════════════════════════════════════════»\n",
       "«                                                                             »\n",
       "«                     ┌───┐ ░                                              »\n",
       "« q_0: ──■────■────■──┤ X ├─░──────────────────────────────────────────────»\n",
       "«        │    │    │  └───┘ ░                                              »\n",
       "« q_1: ──┼────┼────┼────────░────────■────■────■────■────■────■────■────■──»\n",
       "«        │    │    │  ┌───┐ ░        │    │    │    │    │    │    │    │  »\n",
       "« q_2: ──■────■────■──┤ X ├─░────────■────■────■────■────■────■────■────■──»\n",
       "«        │    │    │  └───┘ ░ ┌───┐  │    │    │    │    │    │    │    │  »\n",
       "« q_3: ──■────■────■────────░─┤ X ├──■────■────■────■────■────■────■────■──»\n",
       "«        │    │    │        ░ └───┘┌─┴─┐  │    │    │    │    │    │    │  »\n",
       "« q_4: ──┼────┼────┼───────────────┤ X ├──┼────┼────┼────┼────┼────┼────┼──»\n",
       "«        │    │    │               └───┘┌─┴─┐  │    │    │    │    │    │  »\n",
       "« q_5: ──┼────┼────┼────────────────────┤ X ├──┼────┼────┼────┼────┼────┼──»\n",
       "«        │    │    │                    └───┘┌─┴─┐  │    │    │    │    │  »\n",
       "« q_6: ──┼────┼────┼─────────────────────────┤ X ├──┼────┼────┼────┼────┼──»\n",
       "«        │    │    │                         └───┘┌─┴─┐  │    │    │    │  »\n",
       "« q_7: ──┼────┼────┼──────────────────────────────┤ X ├──┼────┼────┼────┼──»\n",
       "«        │    │    │                              └───┘┌─┴─┐  │    │    │  »\n",
       "« q_8: ──┼────┼────┼───────────────────────────────────┤ X ├──┼────┼────┼──»\n",
       "«      ┌─┴─┐  │    │                                   └───┘┌─┴─┐  │    │  »\n",
       "« q_9: ┤ X ├──┼────┼────────────────────────────────────────┤ X ├──┼────┼──»\n",
       "«      └───┘┌─┴─┐  │                                        └───┘┌─┴─┐  │  »\n",
       "«q_10: ─────┤ X ├──┼─────────────────────────────────────────────┤ X ├──┼──»\n",
       "«           └───┘┌─┴─┐                                           └───┘┌─┴─┐»\n",
       "«q_11: ──────────┤ X ├────────────────────────────────────────────────┤ X ├»\n",
       "«                └───┘                                                └───┘»\n",
       "«c: 12/════════════════════════════════════════════════════════════════════»\n",
       "«                                                                          »\n",
       "«           \n",
       "« q_0: ─────\n",
       "«           \n",
       "« q_1: ─────\n",
       "«           \n",
       "« q_2: ─────\n",
       "«      ┌───┐\n",
       "« q_3: ┤ X ├\n",
       "«      └───┘\n",
       "« q_4: ─────\n",
       "«           \n",
       "« q_5: ─────\n",
       "«           \n",
       "« q_6: ─────\n",
       "«           \n",
       "« q_7: ─────\n",
       "«           \n",
       "« q_8: ─────\n",
       "«           \n",
       "« q_9: ─────\n",
       "«           \n",
       "«q_10: ─────\n",
       "«           \n",
       "«q_11: ─────\n",
       "«           \n",
       "«c: 12/═════\n",
       "«           </pre>"
      ],
      "text/plain": [
       "      ┌───┐┌───┐                                        ┌───┐ ░                »\n",
       " q_0: ┤ H ├┤ X ├──■────■────■────■────■────■────■────■──┤ X ├─░────────■────■──»\n",
       "      ├───┤└───┘  │    │    │    │    │    │    │    │  └───┘ ░ ┌───┐  │    │  »\n",
       " q_1: ┤ H ├───────■────■────■────■────■────■────■────■────────░─┤ X ├──■────■──»\n",
       "      ├───┤┌───┐  │    │    │    │    │    │    │    │  ┌───┐ ░ ├───┤  │    │  »\n",
       " q_2: ┤ H ├┤ X ├──■────■────■────■────■────■────■────■──┤ X ├─░─┤ X ├──■────■──»\n",
       "      ├───┤├───┤  │    │    │    │    │    │    │    │  ├───┤ ░ ├───┤  │    │  »\n",
       " q_3: ┤ H ├┤ X ├──■────■────■────■────■────■────■────■──┤ X ├─░─┤ X ├──■────■──»\n",
       "      └───┘└───┘┌─┴─┐  │    │    │    │    │    │    │  └───┘ ░ └───┘┌─┴─┐  │  »\n",
       " q_4: ──────────┤ X ├──┼────┼────┼────┼────┼────┼────┼───────────────┤ X ├──┼──»\n",
       "                └───┘┌─┴─┐  │    │    │    │    │    │               └───┘┌─┴─┐»\n",
       " q_5: ───────────────┤ X ├──┼────┼────┼────┼────┼────┼────────────────────┤ X ├»\n",
       "                     └───┘┌─┴─┐  │    │    │    │    │                    └───┘»\n",
       " q_6: ────────────────────┤ X ├──┼────┼────┼────┼────┼─────────────────────────»\n",
       "                          └───┘┌─┴─┐  │    │    │    │                         »\n",
       " q_7: ─────────────────────────┤ X ├──┼────┼────┼────┼─────────────────────────»\n",
       "                               └───┘┌─┴─┐  │    │    │                         »\n",
       " q_8: ──────────────────────────────┤ X ├──┼────┼────┼─────────────────────────»\n",
       "                                    └───┘┌─┴─┐  │    │                         »\n",
       " q_9: ───────────────────────────────────┤ X ├──┼────┼─────────────────────────»\n",
       "                                         └───┘┌─┴─┐  │                         »\n",
       "q_10: ────────────────────────────────────────┤ X ├──┼─────────────────────────»\n",
       "                                              └───┘┌─┴─┐                       »\n",
       "q_11: ─────────────────────────────────────────────┤ X ├───────────────────────»\n",
       "                                                   └───┘                       »\n",
       "c: 12/═════════════════════════════════════════════════════════════════════════»\n",
       "                                                                               »\n",
       "«                                     ░       ░ ┌───┐                         »\n",
       "« q_0: ──■────■────■────■────■────■───░───────░─┤ X ├──■────■────■────■────■──»\n",
       "«        │    │    │    │    │    │   ░ ┌───┐ ░ └───┘  │    │    │    │    │  »\n",
       "« q_1: ──■────■────■────■────■────■───░─┤ X ├─░────────┼────┼────┼────┼────┼──»\n",
       "«        │    │    │    │    │    │   ░ ├───┤ ░ ┌───┐  │    │    │    │    │  »\n",
       "« q_2: ──■────■────■────■────■────■───░─┤ X ├─░─┤ X ├──■────■────■────■────■──»\n",
       "«        │    │    │    │    │    │   ░ ├───┤ ░ └───┘  │    │    │    │    │  »\n",
       "« q_3: ──■────■────■────■────■────■───░─┤ X ├─░────────■────■────■────■────■──»\n",
       "«        │    │    │    │    │    │   ░ └───┘ ░      ┌─┴─┐  │    │    │    │  »\n",
       "« q_4: ──┼────┼────┼────┼────┼────┼──────────────────┤ X ├──┼────┼────┼────┼──»\n",
       "«        │    │    │    │    │    │                  └───┘┌─┴─┐  │    │    │  »\n",
       "« q_5: ──┼────┼────┼────┼────┼────┼───────────────────────┤ X ├──┼────┼────┼──»\n",
       "«      ┌─┴─┐  │    │    │    │    │                       └───┘┌─┴─┐  │    │  »\n",
       "« q_6: ┤ X ├──┼────┼────┼────┼────┼────────────────────────────┤ X ├──┼────┼──»\n",
       "«      └───┘┌─┴─┐  │    │    │    │                            └───┘┌─┴─┐  │  »\n",
       "« q_7: ─────┤ X ├──┼────┼────┼────┼─────────────────────────────────┤ X ├──┼──»\n",
       "«           └───┘┌─┴─┐  │    │    │                                 └───┘┌─┴─┐»\n",
       "« q_8: ──────────┤ X ├──┼────┼────┼──────────────────────────────────────┤ X ├»\n",
       "«                └───┘┌─┴─┐  │    │                                      └───┘»\n",
       "« q_9: ───────────────┤ X ├──┼────┼───────────────────────────────────────────»\n",
       "«                     └───┘┌─┴─┐  │                                           »\n",
       "«q_10: ────────────────────┤ X ├──┼───────────────────────────────────────────»\n",
       "«                          └───┘┌─┴─┐                                         »\n",
       "«q_11: ─────────────────────────┤ X ├─────────────────────────────────────────»\n",
       "«                               └───┘                                         »\n",
       "«c: 12/═══════════════════════════════════════════════════════════════════════»\n",
       "«                                                                             »\n",
       "«                     ┌───┐ ░                                              »\n",
       "« q_0: ──■────■────■──┤ X ├─░──────────────────────────────────────────────»\n",
       "«        │    │    │  └───┘ ░                                              »\n",
       "« q_1: ──┼────┼────┼────────░────────■────■────■────■────■────■────■────■──»\n",
       "«        │    │    │  ┌───┐ ░        │    │    │    │    │    │    │    │  »\n",
       "« q_2: ──■────■────■──┤ X ├─░────────■────■────■────■────■────■────■────■──»\n",
       "«        │    │    │  └───┘ ░ ┌───┐  │    │    │    │    │    │    │    │  »\n",
       "« q_3: ──■────■────■────────░─┤ X ├──■────■────■────■────■────■────■────■──»\n",
       "«        │    │    │        ░ └───┘┌─┴─┐  │    │    │    │    │    │    │  »\n",
       "« q_4: ──┼────┼────┼───────────────┤ X ├──┼────┼────┼────┼────┼────┼────┼──»\n",
       "«        │    │    │               └───┘┌─┴─┐  │    │    │    │    │    │  »\n",
       "« q_5: ──┼────┼────┼────────────────────┤ X ├──┼────┼────┼────┼────┼────┼──»\n",
       "«        │    │    │                    └───┘┌─┴─┐  │    │    │    │    │  »\n",
       "« q_6: ──┼────┼────┼─────────────────────────┤ X ├──┼────┼────┼────┼────┼──»\n",
       "«        │    │    │                         └───┘┌─┴─┐  │    │    │    │  »\n",
       "« q_7: ──┼────┼────┼──────────────────────────────┤ X ├──┼────┼────┼────┼──»\n",
       "«        │    │    │                              └───┘┌─┴─┐  │    │    │  »\n",
       "« q_8: ──┼────┼────┼───────────────────────────────────┤ X ├──┼────┼────┼──»\n",
       "«      ┌─┴─┐  │    │                                   └───┘┌─┴─┐  │    │  »\n",
       "« q_9: ┤ X ├──┼────┼────────────────────────────────────────┤ X ├──┼────┼──»\n",
       "«      └───┘┌─┴─┐  │                                        └───┘┌─┴─┐  │  »\n",
       "«q_10: ─────┤ X ├──┼─────────────────────────────────────────────┤ X ├──┼──»\n",
       "«           └───┘┌─┴─┐                                           └───┘┌─┴─┐»\n",
       "«q_11: ──────────┤ X ├────────────────────────────────────────────────┤ X ├»\n",
       "«                └───┘                                                └───┘»\n",
       "«c: 12/════════════════════════════════════════════════════════════════════»\n",
       "«                                                                          »\n",
       "«           \n",
       "« q_0: ─────\n",
       "«           \n",
       "« q_1: ─────\n",
       "«           \n",
       "« q_2: ─────\n",
       "«      ┌───┐\n",
       "« q_3: ┤ X ├\n",
       "«      └───┘\n",
       "« q_4: ─────\n",
       "«           \n",
       "« q_5: ─────\n",
       "«           \n",
       "« q_6: ─────\n",
       "«           \n",
       "« q_7: ─────\n",
       "«           \n",
       "« q_8: ─────\n",
       "«           \n",
       "« q_9: ─────\n",
       "«           \n",
       "«q_10: ─────\n",
       "«           \n",
       "«q_11: ─────\n",
       "«           \n",
       "«c: 12/═════\n",
       "«           "
      ]
     },
     "execution_count": 7,
     "metadata": {},
     "output_type": "execute_result"
    }
   ],
   "source": [
    "qc.draw()"
   ]
  },
  {
   "cell_type": "code",
   "execution_count": 8,
   "id": "economic-paraguay",
   "metadata": {},
   "outputs": [],
   "source": [
    "#测量，由于qiskit中测量结果是反着排序的，所以在测量时需要提前反着来\n",
    "for i in range(12):\n",
    "    qc.measure(11 - i, i)"
   ]
  },
  {
   "cell_type": "code",
   "execution_count": 9,
   "id": "differential-father",
   "metadata": {},
   "outputs": [
    {
     "name": "stdout",
     "output_type": "stream",
     "text": [
      "{'000000000000': 58, '000111111111': 73, '001000000000': 65, '001100000000': 54, '010011111111': 61, '010111111111': 64, '011011111111': 76, '011100000000': 56, '100011111111': 60, '100100000000': 66, '101000000000': 67, '101100000000': 74, '110000000000': 64, '110100000000': 56, '111011111111': 71, '111100000000': 59}\n"
     ]
    }
   ],
   "source": [
    "#初始化qasm模拟器，此时可将电脑视作量子计算机，因此此时模拟的是无噪声情况下的理想量子计算机\n",
    "qasm_sim = Aer.get_backend('qasm_simulator')\n",
    "#自动优化量子电路\n",
    "t_qc = transpile(qc, qasm_sim)\n",
    "#设定测量次数，一般为2的n次\n",
    "qobj = assemble(t_qc, shots=1024)\n",
    "#获取结果\n",
    "result = qasm_sim.run(qobj).result()\n",
    "counts = result.get_counts(qc)\n",
    "#由于结果是以字典的形式存储的，打印结果可以看到前为实际序列，后为测量到的次数\n",
    "print(counts)"
   ]
  },
  {
   "cell_type": "code",
   "execution_count": 10,
   "id": "ordered-mainland",
   "metadata": {},
   "outputs": [
    {
     "data": {
      "image/png": "[encoded data removed]",
      "text/plain": [
       "<Figure size 504x360 with 1 Axes>"
      ]
     },
     "execution_count": 10,
     "metadata": {},
     "output_type": "execute_result"
    }
   ],
   "source": [
    "#打印概率直方图\n",
    "plot_histogram(counts)"
   ]
  },
  {
   "cell_type": "code",
   "execution_count": 11,
   "id": "requested-transportation",
   "metadata": {},
   "outputs": [],
   "source": [
    "infIndex = []\n",
    "for i in counts:\n",
    "    infIndex.append(i)"
   ]
  },
  {
   "cell_type": "code",
   "execution_count": 12,
   "id": "colonial-filter",
   "metadata": {},
   "outputs": [],
   "source": [
    "#将测量得到的量子态还原为经典图像\n",
    "color_value = []\n",
    "index_value = []\n",
    "#00为R通道\n",
    "channel0_0 = {}\n",
    "#01为G通道\n",
    "channel0_1 = {}\n",
    "#10为B通道\n",
    "channel1_0 = {}\n",
    "#11实际上可作为透明度通道，但是这里没有任何操作，可要可不要\n",
    "channel1_1 = {}\n",
    "for pix in infIndex:\n",
    "    if pix[2:4] == '00':\n",
    "        key = int(pix[0:2], 2)\n",
    "        val = int(pix[4:12], 2)\n",
    "        channel0_0[key] = val\n",
    "    elif pix[2:4] == '01':\n",
    "        key = int(pix[0:2], 2)\n",
    "        val = int(pix[4:12], 2)\n",
    "        channel0_1[key] = val\n",
    "    elif pix[2:4] == '10':\n",
    "        key = int(pix[0:2], 2)\n",
    "        val = int(pix[4:12], 2)\n",
    "        channel1_0[key] = val\n",
    "    elif pix[2:4] == '11':\n",
    "        key = int(pix[0:2], 2)\n",
    "        val = int(pix[4:12], 2)\n",
    "        channel1_1[key] = val"
   ]
  },
  {
   "cell_type": "code",
   "execution_count": 13,
   "id": "black-irish",
   "metadata": {},
   "outputs": [],
   "source": [
    "#实际舍弃了11\n",
    "channel_R = []\n",
    "channel_G = []\n",
    "channel_B = []\n",
    "for i in range(4):\n",
    "    channel_R.append(channel0_0[i])\n",
    "    channel_G.append(channel0_1[i])\n",
    "    channel_B.append(channel1_0[i])"
   ]
  },
  {
   "cell_type": "code",
   "execution_count": 14,
   "id": "vietnamese-siemens",
   "metadata": {},
   "outputs": [],
   "source": [
    "#将数据从list转为np.array,便于升维或者说转变为RGB图片\n",
    "channel_R = np.array(channel_R).reshape(2, 2, 1)\n",
    "channel_G = np.array(channel_G).reshape(2, 2, 1)\n",
    "channel_B = np.array(channel_B).reshape(2, 2, 1)"
   ]
  },
  {
   "cell_type": "code",
   "execution_count": 17,
   "id": "correct-miami",
   "metadata": {},
   "outputs": [],
   "source": [
    "Image = np.dstack((channel_R, channel_G))"
   ]
  },
  {
   "cell_type": "code",
   "execution_count": 18,
   "id": "fabulous-edition",
   "metadata": {},
   "outputs": [],
   "source": [
    "Image = np.dstack((Image, channel_B))"
   ]
  },
  {
   "cell_type": "code",
   "execution_count": 19,
   "id": "filled-insulation",
   "metadata": {},
   "outputs": [
    {
     "data": {
      "text/plain": [
       "<matplotlib.image.AxesImage at 0x7feb10cbecc0>"
      ]
     },
     "execution_count": 19,
     "metadata": {},
     "output_type": "execute_result"
    },
    {
     "data": {
      "image/png": "[encoded data removed]",
      "text/plain": [
       "<Figure size 432x288 with 1 Axes>"
      ]
     },
     "metadata": {
      "needs_background": "light"
     },
     "output_type": "display_data"
    }
   ],
   "source": [
    "plt.imshow(Image)"
   ]
  },
  {
   "cell_type": "code",
   "execution_count": null,
   "id": "helpful-sierra",
   "metadata": {},
   "outputs": [],
   "source": []
  }
 ],
 "metadata": {
  "kernelspec": {
   "display_name": "Python 3",
   "language": "python",
   "name": "python3"
  },
  "language_info": {
   "codemirror_mode": {
    "name": "ipython",
    "version": 3
   },
   "file_extension": ".py",
   "mimetype": "text/x-python",
   "name": "python",
   "nbconvert_exporter": "python",
   "pygments_lexer": "ipython3",
   "version": "3.6.13"
  }
 },
 "nbformat": 4,
 "nbformat_minor": 5
}
